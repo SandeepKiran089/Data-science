{
 "cells": [
  {
   "cell_type": "code",
   "execution_count": null,
   "metadata": {},
   "outputs": [],
   "source": [
    "def lenght_user():\n",
    "    user=\"Sandeep\"\n",
    "    print(\"User name length ={}\".format(len(user)))\n",
    "    print(\"User name data type ={}\".format(type(user)))\n",
    "\n",
    "lenght_user()"
   ]
  },
  {
   "cell_type": "code",
   "execution_count": null,
   "metadata": {},
   "outputs": [],
   "source": [
    "def lenght_user():\n",
    "    pass\n",
    "\n",
    "lenght_user()"
   ]
  },
  {
   "cell_type": "code",
   "execution_count": null,
   "metadata": {},
   "outputs": [],
   "source": [
    "def sum_prod(n):\n",
    "    sump=0\n",
    "    for i in n:\n",
    "        sump+=i\n",
    "    return sump\n",
    "\n",
    "l=[5,6,3]\n",
    "\n",
    "res=sum_prod(l)"
   ]
  },
  {
   "cell_type": "code",
   "execution_count": null,
   "metadata": {},
   "outputs": [],
   "source": [
    "print(res)"
   ]
  },
  {
   "cell_type": "code",
   "execution_count": null,
   "metadata": {},
   "outputs": [],
   "source": [
    "def odd_number(n):\n",
    "    odd=[]\n",
    "    even=[]\n",
    "    for i in n:\n",
    "        if i%2!=0:\n",
    "            odd.append(i)\n",
    "        else:\n",
    "           even.append(i) \n",
    "    return odd,even\n",
    "            \n",
    "\n",
    "num=[44,33,22,45,99,23]\n",
    "od=odd_number(num)\n",
    "\n",
    "print(od)\n",
    "            "
   ]
  },
  {
   "cell_type": "code",
   "execution_count": 28,
   "metadata": {},
   "outputs": [
    {
     "name": "stdout",
     "output_type": "stream",
     "text": [
      "[1, 5, 3, 2, 1, 5, 3, 2]\n"
     ]
    }
   ],
   "source": [
    "anonymous=lambda v: v*2\n",
    "\n",
    "l=[1,5,3,2]\n",
    "print(anonymous(l))"
   ]
  },
  {
   "cell_type": "code",
   "execution_count": 29,
   "metadata": {},
   "outputs": [
    {
     "name": "stdout",
     "output_type": "stream",
     "text": [
      "10\n"
     ]
    }
   ],
   "source": [
    "a=lambda x: x+5\n",
    "print(a(5))"
   ]
  },
  {
   "cell_type": "code",
   "execution_count": 33,
   "metadata": {},
   "outputs": [
    {
     "name": "stdout",
     "output_type": "stream",
     "text": [
      "[66, 77, 55, 34]\n"
     ]
    }
   ],
   "source": [
    "Sqr=[2,3,4,5,66,77,55,34,22]\n",
    "\n",
    "res=filter(lambda x:x*2>50,Sqr)\n",
    "\n",
    "print(list(res))"
   ]
  },
  {
   "cell_type": "code",
   "execution_count": 43,
   "metadata": {},
   "outputs": [
    {
     "name": "stdout",
     "output_type": "stream",
     "text": [
      "['SANDEEP', 'KUMAR']\n"
     ]
    }
   ],
   "source": [
    "comb=['Sandeep','Kumar']\n",
    "\n",
    "res=map(lambda s:s.upper(),comb)\n",
    "\n",
    "print(list(res))\n"
   ]
  },
  {
   "cell_type": "code",
   "execution_count": 64,
   "metadata": {},
   "outputs": [
    {
     "name": "stdout",
     "output_type": "stream",
     "text": [
      "[125, 64]\n"
     ]
    }
   ],
   "source": [
    "def sqr(n):\n",
    "    sq=n**3\n",
    "    return sq\n",
    "\n",
    "lst=[5,4]\n",
    "\n",
    "res=map(sqr,lst)\n",
    "print(list(res))"
   ]
  },
  {
   "cell_type": "code",
   "execution_count": 67,
   "metadata": {},
   "outputs": [
    {
     "name": "stdout",
     "output_type": "stream",
     "text": [
      "[99, 55, 64]\n"
     ]
    }
   ],
   "source": [
    "ListA=[4,2,3,99,55,48,64]\n",
    "\n",
    "res=[x for x in ListA if x>50]\n",
    "\n",
    "print(res)"
   ]
  },
  {
   "cell_type": "code",
   "execution_count": 68,
   "metadata": {},
   "outputs": [
    {
     "name": "stdout",
     "output_type": "stream",
     "text": [
      "Do you want to calculate your EMI?, if Yes press Y Y\n",
      "Enter principle amount :2085000\n",
      "Enter rate of interest :7.5\n",
      "Enter loan tenure year :20\n",
      "Your EMI would be 16796.62: \n",
      "Press any key to exit and Y to continue. N\n"
     ]
    }
   ],
   "source": [
    "def Loan_EMI_Calculator(principle_amount, interest_rate, tenure_in_number_of_month, downpayment=0):\n",
    "    principle_amount = principle_amount - downpayment\n",
    "    tenure_in_number_of_month = (tenure_in_number_of_month * 12)\n",
    "    r=(interest_rate/12)/100\n",
    "    emi=principle_amount * r * (1 + r) ** tenure_in_number_of_month / (((1 + r) ** tenure_in_number_of_month) - 1)\n",
    "    return emi\n",
    "\n",
    "ui=input(\"Do you want to calculate your EMI?, if Yes press Y \")\n",
    "while ui=='Y':\n",
    "    pamt=int(input(\"Enter principle amount :\"))\n",
    "    roi=float(input(\"Enter rate of interest :\"))\n",
    "    lty=int(input(\"Enter loan tenure year :\"))\n",
    "    Loan_EMI=Loan_EMI_Calculator(\n",
    "    principle_amount=pamt,\n",
    "    interest_rate=roi,\n",
    "    tenure_in_number_of_month=lty,\n",
    "    downpayment=0)\n",
    "\n",
    "    print(\"Your EMI would be {}: \".format(round(Loan_EMI,2)))\n",
    "    ui = input(\"Press any key to exit and Y to continue. \")"
   ]
  },
  {
   "cell_type": "code",
   "execution_count": null,
   "metadata": {},
   "outputs": [],
   "source": []
  }
 ],
 "metadata": {
  "kernelspec": {
   "display_name": "Python 3",
   "language": "python",
   "name": "python3"
  },
  "language_info": {
   "codemirror_mode": {
    "name": "ipython",
    "version": 3
   },
   "file_extension": ".py",
   "mimetype": "text/x-python",
   "name": "python",
   "nbconvert_exporter": "python",
   "pygments_lexer": "ipython3",
   "version": "3.8.5"
  }
 },
 "nbformat": 4,
 "nbformat_minor": 4
}
